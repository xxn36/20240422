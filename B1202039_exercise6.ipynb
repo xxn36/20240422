{
  "nbformat": 4,
  "nbformat_minor": 0,
  "metadata": {
    "colab": {
      "provenance": []
    },
    "kernelspec": {
      "name": "python3",
      "display_name": "Python 3"
    },
    "language_info": {
      "name": "python"
    }
  },
  "cells": [
    {
      "cell_type": "code",
      "execution_count": 11,
      "metadata": {
        "colab": {
          "base_uri": "https://localhost:8080/"
        },
        "id": "q8CcK6MWoL31",
        "outputId": "8fe0b2aa-18d7-4ff0-ce66-ce71a726f87a"
      },
      "outputs": [
        {
          "output_type": "stream",
          "name": "stdout",
          "text": [
            "1 x 1 = 1   2 x 1 = 2   3 x 1 = 3   4 x 1 = 4   5 x 1 = 5   6 x 1 = 6   7 x 1 = 7   8 x 1 = 8   9 x 1 = 9   \n",
            "1 x 2 = 2   2 x 2 = 4   3 x 2 = 6   4 x 2 = 8   5 x 2 = 10  6 x 2 = 12  7 x 2 = 14  8 x 2 = 16  9 x 2 = 18  \n",
            "1 x 3 = 3   2 x 3 = 6   3 x 3 = 9   4 x 3 = 12  5 x 3 = 15  6 x 3 = 18  7 x 3 = 21  8 x 3 = 24  9 x 3 = 27  \n",
            "1 x 4 = 4   2 x 4 = 8   3 x 4 = 12  4 x 4 = 16  5 x 4 = 20  6 x 4 = 24  7 x 4 = 28  8 x 4 = 32  9 x 4 = 36  \n",
            "1 x 5 = 5   2 x 5 = 10  3 x 5 = 15  4 x 5 = 20  5 x 5 = 25  6 x 5 = 30  7 x 5 = 35  8 x 5 = 40  9 x 5 = 45  \n",
            "1 x 6 = 6   2 x 6 = 12  3 x 6 = 18  4 x 6 = 24  5 x 6 = 30  6 x 6 = 36  7 x 6 = 42  8 x 6 = 48  9 x 6 = 54  \n",
            "1 x 7 = 7   2 x 7 = 14  3 x 7 = 21  4 x 7 = 28  5 x 7 = 35  6 x 7 = 42  7 x 7 = 49  8 x 7 = 56  9 x 7 = 63  \n",
            "1 x 8 = 8   2 x 8 = 16  3 x 8 = 24  4 x 8 = 32  5 x 8 = 40  6 x 8 = 48  7 x 8 = 56  8 x 8 = 64  9 x 8 = 72  \n",
            "1 x 9 = 9   2 x 9 = 18  3 x 9 = 27  4 x 9 = 36  5 x 9 = 45  6 x 9 = 54  7 x 9 = 63  8 x 9 = 72  9 x 9 = 81  \n"
          ]
        }
      ],
      "source": [
        "row = 1\n",
        "while row <= 9:\n",
        "    col = 1\n",
        "    while col <= 9:\n",
        "        print(f\"{col} x {row} = {col*row:<2}\", end=\"  \")\n",
        "        col += 1\n",
        "    print()\n",
        "    row += 1\n"
      ]
    },
    {
      "cell_type": "code",
      "source": [
        "import random\n",
        "\n",
        "answer = random.sample(range(1, 10), 4)\n",
        "print(answer)\n",
        "guess_count = 0\n",
        "\n",
        "while True:\n",
        "\n",
        "    while True:\n",
        "        guess = input('請輸入四個不重複的數字:')\n",
        "        guess = [int(x) for x in guess if x.isdigit()]\n",
        "        if len(guess) != 4:\n",
        "            print(\"輸入數字過多，請輸入四個數字(不會重複)\")\n",
        "            continue\n",
        "        break\n",
        "\n",
        "    a = 0\n",
        "    b = 0\n",
        "    for i in range(4):\n",
        "        if guess[i] == answer[i]:\n",
        "            a += 1\n",
        "        elif guess[i] in answer:\n",
        "            b += 1\n",
        "    guess_count += 1\n",
        "    if a == 4:\n",
        "        print(f\"水喔，你猜了{guess_count}次，終於答對了!:D\")\n",
        "        break\n",
        "    else:\n",
        "        print(f\"{a}A{b}B\")\n",
        "\n",
        "print(\"答案是:\", answer)\n"
      ],
      "metadata": {
        "colab": {
          "base_uri": "https://localhost:8080/"
        },
        "id": "WwzRWlAM6MN9",
        "outputId": "bb083387-ffd5-4c88-dbdb-1daaa16feaba"
      },
      "execution_count": 102,
      "outputs": [
        {
          "output_type": "stream",
          "name": "stdout",
          "text": [
            "[6, 3, 5, 7]\n",
            "請輸入四個不重複的數字:123456\n",
            "輸入數字過多，請輸入四個數字(不會重複)\n",
            "請輸入四個不重複的數字:1234\n",
            "0A1B\n",
            "請輸入四個不重複的數字:5678\n",
            "0A3B\n",
            "請輸入四個不重複的數字:1567\n",
            "1A2B\n",
            "請輸入四個不重複的數字:2657\n",
            "2A1B\n",
            "請輸入四個不重複的數字:6357\n",
            "水喔，你猜了5次，終於答對了!:D\n",
            "答案是: [6, 3, 5, 7]\n"
          ]
        }
      ]
    }
  ]
}